{
  "nbformat": 4,
  "nbformat_minor": 0,
  "metadata": {
    "colab": {
      "name": "Load_Data",
      "provenance": [],
      "private_outputs": true,
      "collapsed_sections": []
    },
    "kernelspec": {
      "name": "python3",
      "display_name": "Python 3"
    }
  },
  "cells": [
    {
      "cell_type": "code",
      "metadata": {
        "id": "UlcMRc5oz3HM",
        "colab_type": "code",
        "colab": {}
      },
      "source": [
        "from google.colab import drive\n",
        "drive.mount('/content/drive')"
      ],
      "execution_count": null,
      "outputs": []
    },
    {
      "cell_type": "code",
      "metadata": {
        "id": "p43sN-0jz8wN",
        "colab_type": "code",
        "colab": {}
      },
      "source": [
        "!pip install Pillow numpy glob2 regex os-sys argparse matplotlib \n",
        "!pip install med2image\n",
        "from PIL import Image\n",
        "import matplotlib.pyplot as plt\n",
        "import numpy as np\n",
        "import glob\n",
        "import re\n",
        "import time\n",
        "import sys"
      ],
      "execution_count": null,
      "outputs": []
    },
    {
      "cell_type": "code",
      "metadata": {
        "id": "u64AHF9qz-qz",
        "colab_type": "code",
        "colab": {}
      },
      "source": [
        "def sort_list(l):\n",
        "    convert = lambda text: int(text) if text.isdigit() else text\n",
        "    alphanum_key = lambda key: [convert(c) for c in re.split('([0-9]+)', key)]\n",
        "    return sorted(l, key = alphanum_key)"
      ],
      "execution_count": null,
      "outputs": []
    },
    {
      "cell_type": "code",
      "metadata": {
        "id": "se3Q_zBntQjp",
        "colab_type": "code",
        "colab": {}
      },
      "source": [
        "def create_image(dirname, dirname2, label, filename):\n",
        "    if dirname[-1] == \"/\":\n",
        "        dirname = dirname[:-1]\n",
        "    images = glob.glob(str(dirname) + \"/*.png\")\n",
        "\n",
        "    if dirname2[-1] == \"/\":\n",
        "        dirname2 = dirname2[:-1]\n",
        "    images2 = glob.glob(str(dirname2) + \"/*.png\")\n",
        "\n",
        "    # Sort images alphanumerically by filename to ensure that z loops from front to back\n",
        "    images = sort_list(images)\n",
        "    images2 = sort_list(images2)\n",
        "\n",
        "    p = np.zeros((len(images), Image.open(images[0]).convert('L').size[0]))\n",
        "\n",
        "    # setup toolbar\n",
        "    toolbar_width = int(len(images)/5 + 1)\n",
        "    sys.stdout.write(label + \" [%s]\" % (\" \" * toolbar_width))\n",
        "    sys.stdout.flush()\n",
        "    sys.stdout.write(\"\\b\" * (toolbar_width+1))\n",
        "\n",
        "    # Loop through CT slices from front to back\n",
        "    for z in range(len(images)):\n",
        "        img = Image.open(images[z]).convert('L')  # convert image to 8-bit grayscale\n",
        "        HEIGHT, WIDTH = img.size\n",
        "        data = list(img.getdata()) # convert image data to a list of integers\n",
        "        # convert that to 2D list (list of lists of integers)\n",
        "        pixels = [data[offset:offset+WIDTH] for offset in range(0, WIDTH*HEIGHT, WIDTH)]\n",
        "\n",
        "        img2 = Image.open(images2[z]).convert('L') \n",
        "        data2 = list(img2.getdata()) \n",
        "        pixels2 = [data2[offset:offset+WIDTH] for offset in range(0, WIDTH*HEIGHT, WIDTH)]\n",
        "\n",
        "        for r in range(HEIGHT):\n",
        "            for c in range(WIDTH):\n",
        "                if pixels2[r][c] != 0:\n",
        "                    pixels[r][c] = pixels2[r][c]\n",
        "\n",
        "        # Loop from left to right on the CT slice\n",
        "        for x in range(WIDTH):\n",
        "            # Sum y values in the current x column\n",
        "            sum = 0\n",
        "            for y in range(HEIGHT):\n",
        "                sum += pixels[y][x]\n",
        "            # Assign sum to the point (x, z) on the coronal image - p[z][x] in the pixel array, \n",
        "            # since z represents height (rows) and x represents length (columns)\n",
        "            p[len(images) - 1 - z][x] = sum\n",
        "\n",
        "        if z % 5 == 0:\n",
        "            # update the bar\n",
        "            sys.stdout.write(\"-\")\n",
        "            sys.stdout.flush()\n",
        "    sys.stdout.write(\"]\\n\")\n",
        "    \n",
        "    plt.clf()\n",
        "    plt.imshow(p, cmap='gray')\n",
        "    plt.gca().set_axis_off()\n",
        "    plt.subplots_adjust(top = 1, bottom = 0, right = 1, left = 0, \n",
        "                hspace = 0, wspace = 0)\n",
        "    plt.margins(0,0)\n",
        "    plt.gca().xaxis.set_major_locator(plt.NullLocator())\n",
        "    plt.gca().yaxis.set_major_locator(plt.NullLocator())\n",
        "    plt.savefig(filename, bbox_inches = 'tight',\n",
        "        pad_inches = 0)\n",
        "    \n",
        "    final_img = Image.open(filename)\n",
        "    size = 300\n",
        "    if final_img.size[1] < 300:\n",
        "        final_img = final_img.resize((final_img.size[0], 300))    \n",
        "\n",
        "    final_img.save(filename)"
      ],
      "execution_count": null,
      "outputs": []
    },
    {
      "cell_type": "code",
      "metadata": {
        "id": "Dyd_mgFK00Vi",
        "colab_type": "code",
        "colab": {}
      },
      "source": [
        "scans = glob.glob('/content/drive/My Drive/data/CT_Scans/*.nii')\n",
        "scans = sort_list(scans)\n",
        "for i in range(len(scans)):\n",
        "  name = './data/CT_Scans/Volume' + str(i) + '/'\n",
        "  tf.io.gfile.makedirs(name)\n",
        "  scan = scans[i]\n",
        "  scan = './' + scan[scan.rindex('data'):]\n",
        "  !med2image -i $scan -o $name\n",
        "\n",
        "masks = glob.glob('/content/drive/My Drive/data/Infection_Masks/*.nii')\n",
        "masks = sort_list(masks)\n",
        "for i in range(len(masks)):\n",
        "  name = './data/Infection_Masks/Volume' + str(i) + '/'\n",
        "  tf.io.gfile.makedirs(name)\n",
        "  scan = masks[i]\n",
        "  scan = './' + scan[scan.rindex('data'):]\n",
        "  !med2image -i $scan -o $name"
      ],
      "execution_count": null,
      "outputs": []
    },
    {
      "cell_type": "code",
      "metadata": {
        "id": "WtstC9LUthx9",
        "colab_type": "code",
        "colab": {}
      },
      "source": [
        "from google.colab import files\n",
        "import tensorflow as tf\n",
        "\n",
        "%cd /content/drive/My Drive/\n",
        "\n",
        "for i in range(1):\n",
        "  scan_name = './data/CT_Scans/'\n",
        "  mask_name = './data/Infection_Masks/Volume' + str(i)\n",
        "  create_image(scan_name, mask_name, \"Creating X-ray:\", 'xray' + str(i) + '.png')\n",
        "  files.download('xray' + str(i) + '.png')\n",
        "\n",
        "for i in range(19):\n",
        "  scan_name = './data/CT_Scans/Volume' + str(i+1)\n",
        "  mask_name = './data/Infection_Masks/Volume' + str(i+1)\n",
        "  create_image(scan_name, mask_name, \"Creating X-ray:\", 'xray' + str(i+1) + '.png')\n",
        "  files.download('xray' + str(i+1) + '.png')    "
      ],
      "execution_count": null,
      "outputs": []
    }
  ]
}