{
  "nbformat": 4,
  "nbformat_minor": 0,
  "metadata": {
    "colab": {
      "name": "Create_Annotations_JSON",
      "provenance": [],
      "collapsed_sections": [],
      "authorship_tag": "ABX9TyM53j12FTJEe8sS8wi9bURV"
    },
    "kernelspec": {
      "name": "python3",
      "display_name": "Python 3"
    }
  },
  "cells": [
    {
      "cell_type": "code",
      "metadata": {
        "id": "UlcMRc5oz3HM",
        "colab_type": "code",
        "colab": {
          "base_uri": "https://localhost:8080/",
          "height": 34
        },
        "outputId": "2b22a08f-1479-49d5-eb83-c668b7dae267"
      },
      "source": [
        "from google.colab import drive\n",
        "drive.mount('/content/drive')"
      ],
      "execution_count": 1,
      "outputs": [
        {
          "output_type": "stream",
          "text": [
            "Drive already mounted at /content/drive; to attempt to forcibly remount, call drive.mount(\"/content/drive\", force_remount=True).\n"
          ],
          "name": "stdout"
        }
      ]
    },
    {
      "cell_type": "code",
      "metadata": {
        "id": "p43sN-0jz8wN",
        "colab_type": "code",
        "colab": {
          "base_uri": "https://localhost:8080/",
          "height": 272
        },
        "outputId": "afa8b485-b6ce-40b5-9a79-4ea61fc0d97a"
      },
      "source": [
        "!pip install med2image\n",
        "from PIL import Image\n",
        "import matplotlib.pyplot as plt\n",
        "import numpy as np\n",
        "import glob\n",
        "import re\n",
        "import time\n",
        "import sys"
      ],
      "execution_count": 2,
      "outputs": [
        {
          "output_type": "stream",
          "text": [
            "Requirement already satisfied: med2image in /usr/local/lib/python3.6/dist-packages (2.2.4)\n",
            "Requirement already satisfied: nibabel in /usr/local/lib/python3.6/dist-packages (from med2image) (3.0.2)\n",
            "Requirement already satisfied: pillow in /usr/local/lib/python3.6/dist-packages (from med2image) (7.0.0)\n",
            "Requirement already satisfied: matplotlib in /usr/local/lib/python3.6/dist-packages (from med2image) (3.2.2)\n",
            "Requirement already satisfied: numpy in /usr/local/lib/python3.6/dist-packages (from med2image) (1.18.5)\n",
            "Requirement already satisfied: pfmisc in /usr/local/lib/python3.6/dist-packages (from med2image) (1.4.0)\n",
            "Requirement already satisfied: pydicom in /usr/local/lib/python3.6/dist-packages (from med2image) (2.0.0)\n",
            "Requirement already satisfied: python-dateutil>=2.1 in /usr/local/lib/python3.6/dist-packages (from matplotlib->med2image) (2.8.1)\n",
            "Requirement already satisfied: pyparsing!=2.0.4,!=2.1.2,!=2.1.6,>=2.0.1 in /usr/local/lib/python3.6/dist-packages (from matplotlib->med2image) (2.4.7)\n",
            "Requirement already satisfied: cycler>=0.10 in /usr/local/lib/python3.6/dist-packages (from matplotlib->med2image) (0.10.0)\n",
            "Requirement already satisfied: kiwisolver>=1.0.1 in /usr/local/lib/python3.6/dist-packages (from matplotlib->med2image) (1.2.0)\n",
            "Requirement already satisfied: pudb in /usr/local/lib/python3.6/dist-packages (from pfmisc->med2image) (2019.2)\n",
            "Requirement already satisfied: six>=1.5 in /usr/local/lib/python3.6/dist-packages (from python-dateutil>=2.1->matplotlib->med2image) (1.15.0)\n",
            "Requirement already satisfied: urwid>=1.1.1 in /usr/local/lib/python3.6/dist-packages (from pudb->pfmisc->med2image) (2.1.1)\n",
            "Requirement already satisfied: pygments>=1.0 in /usr/local/lib/python3.6/dist-packages (from pudb->pfmisc->med2image) (2.1.3)\n"
          ],
          "name": "stdout"
        }
      ]
    },
    {
      "cell_type": "code",
      "metadata": {
        "id": "u64AHF9qz-qz",
        "colab_type": "code",
        "colab": {}
      },
      "source": [
        "def sort_list(l):\n",
        "    convert = lambda text: int(text) if text.isdigit() else text\n",
        "    alphanum_key = lambda key: [convert(c) for c in re.split('([0-9]+)', key)]\n",
        "    return sorted(l, key = alphanum_key)"
      ],
      "execution_count": 3,
      "outputs": []
    },
    {
      "cell_type": "code",
      "metadata": {
        "id": "se3Q_zBntQjp",
        "colab_type": "code",
        "colab": {}
      },
      "source": [
        "def create_image(dirname, label):\n",
        "    if dirname[-1] == \"/\":\n",
        "        dirname = dirname[:-1]\n",
        "    images = glob.glob(str(dirname) + \"/*.png\")\n",
        "\n",
        "    # Sort images alphanumerically by filename to ensure that z loops from front to back\n",
        "    images = sort_list(images)\n",
        "\n",
        "    p = np.zeros((len(images), Image.open(images[0]).convert('L').size[0]))\n",
        "\n",
        "    # setup toolbar\n",
        "    toolbar_width = int(len(images)/5 + 1)\n",
        "    sys.stdout.write(label + \" [%s]\" % (\" \" * toolbar_width))\n",
        "    sys.stdout.flush()\n",
        "    sys.stdout.write(\"\\b\" * (toolbar_width+1))\n",
        "\n",
        "    # Loop through CT slices from front to back\n",
        "    for z in range(len(images)):\n",
        "        img = Image.open(images[z]).convert('L')  # convert image to 8-bit grayscale\n",
        "        HEIGHT, WIDTH = img.size\n",
        "        data = list(img.getdata()) # convert image data to a list of integers\n",
        "        # convert that to 2D list (list of lists of integers)\n",
        "        pixels = [data[offset:offset+WIDTH] for offset in range(0, WIDTH*HEIGHT, WIDTH)]\n",
        "\n",
        "        # Loop from left to right on the CT slice\n",
        "        for x in range(WIDTH):\n",
        "            # Sum y values in the current x column\n",
        "            sum = 0\n",
        "            for y in range(HEIGHT):\n",
        "                sum += pixels[y][x]\n",
        "            # Assign sum to the point (x, z) on the coronal image - p[z][x] in the pixel array, \n",
        "            # since z represents height (rows) and x represents length (columns)\n",
        "            p[len(images) - 1 - z][x] = sum\n",
        "\n",
        "        if z % 5 == 0:\n",
        "            # update the bar\n",
        "            sys.stdout.write(\"-\")\n",
        "            sys.stdout.flush()\n",
        "    sys.stdout.write(\"]\\n\")\n",
        "    \n",
        "    return p\n",
        "\n",
        "def save(p, filename):\n",
        "    plt.clf()\n",
        "    plt.imshow(p, cmap='gray')\n",
        "    plt.gca().set_axis_off()\n",
        "    plt.subplots_adjust(top = 1, bottom = 0, right = 1, left = 0, \n",
        "                hspace = 0, wspace = 0)\n",
        "    plt.margins(0,0)\n",
        "    plt.gca().xaxis.set_major_locator(plt.NullLocator())\n",
        "    plt.gca().yaxis.set_major_locator(plt.NullLocator())\n",
        "    plt.savefig(filename, bbox_inches = 'tight',\n",
        "        pad_inches = 0)\n",
        "    \n",
        "    final_img = Image.open(filename)\n",
        "    size = 300\n",
        "    if final_img.size[1] < 300:\n",
        "        final_img = final_img.resize((final_img.size[0], 300))    \n",
        "\n",
        "    final_img.save(filename)"
      ],
      "execution_count": 4,
      "outputs": []
    },
    {
      "cell_type": "code",
      "metadata": {
        "id": "Dyd_mgFK00Vi",
        "colab_type": "code",
        "colab": {
          "base_uri": "https://localhost:8080/",
          "height": 34
        },
        "outputId": "2ae262f5-2c56-4ac0-9282-834f92f8ff8f"
      },
      "source": [
        "%cd /content/drive/My Drive/"
      ],
      "execution_count": 5,
      "outputs": [
        {
          "output_type": "stream",
          "text": [
            "/content/drive/My Drive\n"
          ],
          "name": "stdout"
        }
      ]
    },
    {
      "cell_type": "code",
      "metadata": {
        "id": "3FXQDwnAv703",
        "colab_type": "code",
        "colab": {}
      },
      "source": [
        "ret = []\n",
        "\n",
        "def floodfill(x, y):\n",
        "    if matrix[x][y] != 0: \n",
        "        matrix[x][y] = 0 \n",
        "        ret.append((x,y))\n",
        "        if x > 0:\n",
        "            floodfill(x-1,y)\n",
        "        if x < matrix.shape[0] - 1:\n",
        "            floodfill(x+1,y)\n",
        "        if y > 0:\n",
        "            floodfill(x,y-1)\n",
        "        if y < matrix.shape[1] - 1:\n",
        "            floodfill(x,y+1)\n",
        "\n",
        "def flood():\n",
        "    arr = []\n",
        "    for r in range(matrix.shape[0]):\n",
        "        for c in range(matrix.shape[1]):\n",
        "            if (matrix[r][c] != 0):\n",
        "                ret.clear()\n",
        "                floodfill(r, c)\n",
        "                m = []\n",
        "                for i in ret:\n",
        "                    m.append(i)\n",
        "                arr.append(m)\n",
        "    return arr"
      ],
      "execution_count": 6,
      "outputs": []
    },
    {
      "cell_type": "code",
      "metadata": {
        "id": "WtstC9LUthx9",
        "colab_type": "code",
        "colab": {
          "base_uri": "https://localhost:8080/",
          "height": 68
        },
        "outputId": "7fd6d07e-1183-43cc-c153-0aacba343b60"
      },
      "source": [
        "from google.colab import files\n",
        "import json\n",
        "import random\n",
        "\n",
        "sys.setrecursionlimit(100000)\n",
        "data = {}\n",
        "\n",
        "for i in range(45):\n",
        "    mask_name = './data/masks/Volume' + str(i)\n",
        "    matrix = create_image(mask_name, 'Creating mask ' + str(i) + ':')\n",
        "    arr = flood()\n",
        "    size = random.randint(10000,99999)\n",
        "    fname = 'xray' + str(i) + '.jpg'\n",
        "    name = fname + str(size)\n",
        "    \n",
        "    regions = []\n",
        "    for a in arr:\n",
        "        minX = 10000\n",
        "        maxX = 0\n",
        "        minY = 10000\n",
        "        maxY = 0\n",
        "        for tup in a:\n",
        "            if tup[0] > maxX:\n",
        "                maxX = tup[0]\n",
        "            if tup[0] < minX:\n",
        "                minX = tup[0]\n",
        "            if tup[1] > maxY:\n",
        "                maxY = tup[1]\n",
        "            if tup[1] < minY:\n",
        "                minY = tup[1]\n",
        "        all_points_x = [minX, minX, maxX, maxX]\n",
        "        all_points_y = [minY, maxY, maxY, minY]\n",
        "        \n",
        "        shape_attributes = {}\n",
        "        shape_attributes['name'] = 'polygon'\n",
        "        shape_attributes['all_points_x'] = all_points_y\n",
        "        shape_attributes['all_points_y'] = all_points_x\n",
        "\n",
        "        image_quality = {}\n",
        "        image_quality['good'] = True\n",
        "        image_quality['frontal'] = True\n",
        "        image_quality['good_illumination'] = True\n",
        "\n",
        "        region_attributes = {}\n",
        "        region_attributes['name'] = 'not_defined'\n",
        "        region_attributes['type'] = 'unknown'\n",
        "        region_attributes['image_quality'] = image_quality\n",
        "        \n",
        "        regions.append({\n",
        "            'shape_attributes':shape_attributes,\n",
        "            \"region_attributes\": region_attributes\n",
        "        })\n",
        "\n",
        "    file_attributes = {}\n",
        "    file_attributes['caption'] = ''\n",
        "    file_attributes['public_domain'] = 'no'\n",
        "    file_attributes['image_url'] = ''\n",
        "\n",
        "    data[name] = {}\n",
        "    data[name]['filename'] = fname\n",
        "    data[name]['size'] = size\n",
        "    data[name]['regions'] = regions\n",
        "    data[name]['file_attributes'] = file_attributes\n",
        "\n",
        "with open('via_region_data.json', 'w') as outfile:\n",
        "    json.dump(data, outfile)\n",
        "files.download('via_region_data.json')"
      ],
      "execution_count": 11,
      "outputs": [
        {
          "output_type": "stream",
          "text": [
            "Creating mask 31: [                                                             ]\b\b\b\b\b\b\b\b\b\b\b\b\b\b\b\b\b\b\b\b\b\b\b\b\b\b\b\b\b\b\b\b\b\b\b\b\b\b\b\b\b\b\b\b\b\b\b\b\b\b\b\b\b\b\b\b\b\b\b\b\b\b-------------------------------------------------------------]\n",
            "Creating mask 32: [                                         ]\b\b\b\b\b\b\b\b\b\b\b\b\b\b\b\b\b\b\b\b\b\b\b\b\b\b\b\b\b\b\b\b\b\b\b\b\b\b\b\b\b\b----------------------------------------]\n",
            "Creating mask 33: [                                         ]\b\b\b\b\b\b\b\b\b\b\b\b\b\b\b\b\b\b\b\b\b\b\b\b\b\b\b\b\b\b\b\b\b\b\b\b\b\b\b\b\b\b----------------------------------------]\n"
          ],
          "name": "stdout"
        },
        {
          "output_type": "display_data",
          "data": {
            "application/javascript": [
              "\n",
              "    async function download(id, filename, size) {\n",
              "      if (!google.colab.kernel.accessAllowed) {\n",
              "        return;\n",
              "      }\n",
              "      const div = document.createElement('div');\n",
              "      const label = document.createElement('label');\n",
              "      label.textContent = `Downloading \"${filename}\": `;\n",
              "      div.appendChild(label);\n",
              "      const progress = document.createElement('progress');\n",
              "      progress.max = size;\n",
              "      div.appendChild(progress);\n",
              "      document.body.appendChild(div);\n",
              "\n",
              "      const buffers = [];\n",
              "      let downloaded = 0;\n",
              "\n",
              "      const channel = await google.colab.kernel.comms.open(id);\n",
              "      // Send a message to notify the kernel that we're ready.\n",
              "      channel.send({})\n",
              "\n",
              "      for await (const message of channel.messages) {\n",
              "        // Send a message to notify the kernel that we're ready.\n",
              "        channel.send({})\n",
              "        if (message.buffers) {\n",
              "          for (const buffer of message.buffers) {\n",
              "            buffers.push(buffer);\n",
              "            downloaded += buffer.byteLength;\n",
              "            progress.value = downloaded;\n",
              "          }\n",
              "        }\n",
              "      }\n",
              "      const blob = new Blob(buffers, {type: 'application/binary'});\n",
              "      const a = document.createElement('a');\n",
              "      a.href = window.URL.createObjectURL(blob);\n",
              "      a.download = filename;\n",
              "      div.appendChild(a);\n",
              "      a.click();\n",
              "      div.remove();\n",
              "    }\n",
              "  "
            ],
            "text/plain": [
              "<IPython.core.display.Javascript object>"
            ]
          },
          "metadata": {
            "tags": []
          }
        },
        {
          "output_type": "display_data",
          "data": {
            "application/javascript": [
              "download(\"download_f62b12d3-d05a-455e-9c54-d4ef31a3a3ff\", \"via_region_data.json\", 7946)"
            ],
            "text/plain": [
              "<IPython.core.display.Javascript object>"
            ]
          },
          "metadata": {
            "tags": []
          }
        }
      ]
    }
  ]
}